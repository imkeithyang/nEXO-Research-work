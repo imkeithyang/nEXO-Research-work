{
 "cells": [
  {
   "cell_type": "code",
   "execution_count": 119,
   "metadata": {},
   "outputs": [],
   "source": [
    "import math\n",
    "import tensorflow as tf\n",
    "single_x = []\n",
    "single_y = []\n",
    "single_z = []\n",
    "single_E = []\n",
    "single_x.append([])\n",
    "single_y.append([])\n",
    "single_z.append([])\n",
    "single_E.append([])\n",
    "single_gamma_length = 0\n",
    "idx = 0\n",
    "gamma_length = 0\n",
    "with open(\"/Users/haomingyang/Environments/nexo_py/scripts/AnalyzePosition/Single_x.txt\") as f1,open(\"/Users/haomingyang/Environments/nexo_py/scripts/AnalyzePosition/Single_y.txt\") as f2, open(\"/Users/haomingyang/Environments/nexo_py/scripts/AnalyzePosition/Single_z.txt\") as f3,open(\"/Users/haomingyang/Environments/nexo_py/scripts/AnalyzePosition/Single_E.txt\") as f4:\n",
    "#read in data that has been analyzed, File above only contains single-sited data\n",
    "    for (line1,line2,line3,line4) in zip(f1,f2,f3,f4): \n",
    "        if (line1 == \"gamma\\n\"):\n",
    "            single_gamma_length += 1\n",
    "        if(line1 != \"gamma\\n\" and line1 != \"bb0n\\n\"):\n",
    "            single_x[idx].append(float(line1))\n",
    "            single_y[idx].append(float(line2))\n",
    "            single_z[idx].append(float(line3))\n",
    "            single_E[idx].append(float(line4))\n",
    "        else:\n",
    "            idx+=1\n",
    "            single_x.append([])\n",
    "            single_y.append([])\n",
    "            single_z.append([])\n",
    "            single_E.append([])"
   ]
  },
  {
   "cell_type": "code",
   "execution_count": 120,
   "metadata": {},
   "outputs": [],
   "source": [
    "import numpy as np\n",
    "x_average_center = []\n",
    "y_average_center = []\n",
    "z_average_center = []\n",
    "#Calculate the center of x, y, z, in order to have a coordinate for the center of trajectory\n",
    "for i in range(0, len(single_x)):\n",
    "    x_center = np.average(single_x[i], weights = single_E[i])\n",
    "    x_average_center.append(x_center)\n",
    "    y_center = np.average(single_y[i], weights = single_E[i])\n",
    "    y_average_center.append(y_center)\n",
    "    z_center = np.average(single_z[i], weights = single_E[i])\n",
    "    z_average_center.append(z_center)"
   ]
  },
  {
   "cell_type": "code",
   "execution_count": 121,
   "metadata": {},
   "outputs": [
    {
     "data": {
      "text/plain": [
       "[]"
      ]
     },
     "execution_count": 121,
     "metadata": {},
     "output_type": "execute_result"
    }
   ],
   "source": [
    "import math\n",
    "x_radius = []\n",
    "y_radius = []\n",
    "z_radius = []\n",
    "\n",
    "x_radius.append([])\n",
    "y_radius.append([])\n",
    "z_radius.append([])\n",
    "\n",
    "radius = []\n",
    "radius.append([])\n",
    "\n",
    "# Calculate the distance between each point to the center in their coordinate\n",
    "for i in range(0, len(single_x)):\n",
    "    for j in range(0, len(single_x[i])):\n",
    "        x_radius[i].append(abs(single_x[i][j] - x_average_center[i]))\n",
    "        y_radius[i].append(abs(single_y[i][j] - y_average_center[i]))\n",
    "        z_radius[i].append(abs(single_z[i][j] - z_average_center[i]))\n",
    "        radius[i].append(math.sqrt(x_radius[i][j]**(2) + y_radius[i][j]**(2) + z_radius[i][j]**(2)))\n",
    "        \n",
    "    x_radius.append([])\n",
    "    y_radius.append([])\n",
    "    z_radius.append([])\n",
    "    radius.append([])\n",
    "\n",
    "x_radius.pop()\n",
    "y_radius.pop()\n",
    "z_radius.pop()\n",
    "radius.pop()"
   ]
  },
  {
   "cell_type": "code",
   "execution_count": 122,
   "metadata": {},
   "outputs": [
    {
     "data": {
      "text/plain": [
       "[]"
      ]
     },
     "execution_count": 122,
     "metadata": {},
     "output_type": "execute_result"
    }
   ],
   "source": [
    "x_average_radius = []\n",
    "y_average_radius = []\n",
    "z_average_radius = []\n",
    "average_radius = []\n",
    "average_radius.append([])\n",
    "#Calculate the average distance of x, y, z coordinate, then calculate the average distance of each point to the center\n",
    "#This step and the step on the above cell could be edited into a single process\n",
    "for i in range (0,len(single_x)):\n",
    "    x_average_radius.append(np.average(x_radius[i], weights = single_E[i]))\n",
    "    y_average_radius.append(np.average(y_radius[i], weights = single_E[i]))\n",
    "    z_average_radius.append(np.average(z_radius[i], weights = single_E[i]))\n",
    "    for j in range (0, len(x_radius[i])):\n",
    "        average_radius[i].append(math.sqrt(x_radius[i][j]**(2) + y_radius[i][j]**(2) + z_radius[i][j]**(2)))\n",
    "    average_radius.append([])\n",
    "average_radius.pop()"
   ]
  },
  {
   "cell_type": "code",
   "execution_count": 175,
   "metadata": {},
   "outputs": [],
   "source": [
    "#Select a R_cutoff, since we are analyzing the events that has largely overlapping radius, I have chosen 1\n",
    "r_cutoff = 1"
   ]
  },
  {
   "cell_type": "code",
   "execution_count": 176,
   "metadata": {},
   "outputs": [
    {
     "name": "stdout",
     "output_type": "stream",
     "text": [
      "10971\n",
      "4620\n",
      "9240\n"
     ]
    }
   ],
   "source": [
    "#Cut the events that has radius > 1\n",
    "weighted_average_radius = []\n",
    "cut_x_radius = []\n",
    "cut_y_radius = []\n",
    "cut_z_radius = []\n",
    "cut_single_E = []\n",
    "cut_single_x = []\n",
    "cut_single_y = []\n",
    "cut_single_z = []\n",
    "cut_single_R = []\n",
    "count = 0\n",
    "\n",
    "print (single_gamma_length)\n",
    "for i in range (0,len(single_x)):\n",
    "    weighted_average_radius.append(np.average(average_radius[i], weights = single_E[i]))\n",
    "    \n",
    "for i in range(0, len(weighted_average_radius)):\n",
    "    if (i < single_gamma_length and weighted_average_radius[i] <= r_cutoff):\n",
    "        count += 1\n",
    "        cut_single_E.append(single_E[i])\n",
    "        cut_single_x.append(single_x[i])\n",
    "        cut_single_y.append(single_y[i])\n",
    "        cut_single_z.append(single_z[i])\n",
    "        cut_x_radius.append(x_radius[i])\n",
    "        cut_y_radius.append(y_radius[i])\n",
    "        cut_z_radius.append(z_radius[i])\n",
    "        cut_single_R.append(average_radius[i])\n",
    "for i in range(single_gamma_length, len(weighted_average_radius)):\n",
    "    if (weighted_average_radius[i] <= r_cutoff):\n",
    "        cut_single_E.append(single_E[i])\n",
    "        cut_single_x.append(single_x[i])\n",
    "        cut_single_y.append(single_y[i])\n",
    "        cut_single_z.append(single_z[i])\n",
    "        cut_x_radius.append(x_radius[i])\n",
    "        cut_y_radius.append(y_radius[i])\n",
    "        cut_z_radius.append(z_radius[i])\n",
    "        cut_single_R.append(average_radius[i])\n",
    "    if (len(cut_single_x) == 2* count and count != 0):\n",
    "        break\n",
    "        #weighted_average_radius.pop(i)\n",
    "print(count)\n",
    "print(len(cut_single_x))\n",
    "cut_single_gamma_length = count"
   ]
  },
  {
   "cell_type": "code",
   "execution_count": 177,
   "metadata": {},
   "outputs": [
    {
     "data": {
      "text/plain": [
       "[]"
      ]
     },
     "execution_count": 177,
     "metadata": {},
     "output_type": "execute_result"
    }
   ],
   "source": [
    "#Calculate relative radius\n",
    "x_relative_radius = []\n",
    "y_relative_radius = []\n",
    "z_relative_radius = []\n",
    "x_relative_radius.append([])\n",
    "y_relative_radius.append([])\n",
    "z_relative_radius.append([])\n",
    "for i in range(0, len(cut_single_x)):\n",
    "    max_x_radius = max(cut_x_radius[i])\n",
    "    max_y_radius = max(cut_y_radius[i])\n",
    "    max_z_radius = max(cut_z_radius[i])\n",
    "    min_x_radius = min(cut_x_radius[i])\n",
    "    min_y_radius = min(cut_y_radius[i])\n",
    "    min_z_radius = min(cut_z_radius[i])\n",
    "    for j in range(0, len(cut_single_x[i])):\n",
    "        x_relative_radius[i].append((cut_x_radius[i][j] - min_x_radius)/(max_x_radius - min_x_radius))\n",
    "        y_relative_radius[i].append((cut_y_radius[i][j] - min_y_radius)/(max_y_radius - min_y_radius))\n",
    "        z_relative_radius[i].append((cut_z_radius[i][j] - min_z_radius)/(max_z_radius - min_z_radius))\n",
    "    x_relative_radius.append([])\n",
    "    y_relative_radius.append([])\n",
    "    z_relative_radius.append([])\n",
    "x_relative_radius.pop()\n",
    "y_relative_radius.pop()\n",
    "z_relative_radius.pop()"
   ]
  },
  {
   "cell_type": "code",
   "execution_count": 178,
   "metadata": {},
   "outputs": [],
   "source": [
    "#Lastly Calculate the average radius of the events that has radius less than 1\n",
    "cut_single_average_radius=[]\n",
    "for i in range (0,len(cut_single_x)):\n",
    "    cut_single_average_radius.append(np.average(cut_single_R[i], weights = cut_single_E[i]))"
   ]
  },
  {
   "cell_type": "code",
   "execution_count": 179,
   "metadata": {},
   "outputs": [
    {
     "name": "stdout",
     "output_type": "stream",
     "text": [
      "9240\n"
     ]
    }
   ],
   "source": [
    "#this step fit the data into a 40*40 grid. At each point of the grid, energy is added, creating a trajectory that\n",
    "#trace the energy and movement of the particle\n",
    "xy = np.ndarray(shape=(40,40), dtype=float)\n",
    "xz = np.ndarray(shape=(40,40), dtype=float)\n",
    "yz = np.ndarray(shape=(40,40), dtype=float)\n",
    "\n",
    "xy.fill(0)\n",
    "xz.fill(0)\n",
    "yz.fill(0)\n",
    "train_xy = []\n",
    "train_xz = []\n",
    "train_yz = []\n",
    "for i in range(0, len(cut_single_x)):\n",
    "    min_x = min(cut_single_x[i])\n",
    "    min_y = min(cut_single_y[i])\n",
    "    min_z = min(cut_single_z[i])\n",
    "    max_x = max(cut_single_x[i])\n",
    "    max_y = max(cut_single_y[i])\n",
    "    max_z = max(cut_single_z[i])\n",
    "    for j in range(0, len(cut_single_x[i])):\n",
    "        cur_x = abs((cut_single_x[i][j]-min_x)/(max_x-min_x))\n",
    "        cur_y = abs((cut_single_y[i][j]-min_y)/(max_y-min_y))\n",
    "        cur_z = abs((cut_single_z[i][j]-min_z)/(max_z-min_z))\n",
    "        #calculate the ratio between the average radius \n",
    "        #of this events and the distance between this particular point to the center\n",
    "        ratio = cut_single_average_radius[i]/(cut_x_radius[i][j]**2+cut_y_radius[i][j]**2 + cut_z_radius[i][j]**2)**0.5\n",
    "        #The weight factor helps to magnify the effect of the data points that are closer to the center\n",
    "        weight = (ratio**2)*10000\n",
    "        xy[int((40*x_relative_radius[i][j] - 1)*cur_x)][int((40*y_relative_radius[i][j] - 1)*cur_y)] += cut_single_E[i][j]*weight\n",
    "        xz[int((40*x_relative_radius[i][j] - 1)*cur_x)][int((40*z_relative_radius[i][j] - 1)*cur_z)] += cut_single_E[i][j]*weight\n",
    "        yz[int((40*y_relative_radius[i][j] - 1)*cur_y)][int((40*z_relative_radius[i][j] - 1)*cur_z)] += cut_single_E[i][j]*weight\n",
    "    train_xy.append(xy)\n",
    "    train_xz.append(xz)\n",
    "    train_yz.append(yz)\n",
    "    \n",
    "    xy = np.ndarray(shape=(40,40), dtype=float)\n",
    "    xz = np.ndarray(shape=(40,40), dtype=float)\n",
    "    yz = np.ndarray(shape=(40,40), dtype=float)\n",
    "    xy.fill(0)\n",
    "    xz.fill(0)\n",
    "    yz.fill(0)\n",
    "print(len(train_xy))"
   ]
  },
  {
   "cell_type": "code",
   "execution_count": 180,
   "metadata": {},
   "outputs": [],
   "source": [
    "import matplotlib.pyplot as plt\n",
    "from mpl_toolkits.mplot3d import Axes3D\n",
    "def visualize(idx, train):\n",
    "    x,y= train[idx].nonzero()\n",
    "    sum(train[idx])\n",
    "    fig = plt.figure()\n",
    "    ax = fig.add_subplot(111)\n",
    "    #it is possible to set up alpha value to visualize which point is weighted more\n",
    "    ax.scatter(x, y, c= 'red')\n",
    "    plt.show()"
   ]
  },
  {
   "cell_type": "code",
   "execution_count": 181,
   "metadata": {},
   "outputs": [
    {
     "name": "stdout",
     "output_type": "stream",
     "text": [
      "9240\n",
      "10971\n",
      "gamma x-y\n"
     ]
    },
    {
     "data": {
      "image/png": "[encoded data removed]",
      "text/plain": [
       "<Figure size 432x288 with 1 Axes>"
      ]
     },
     "metadata": {
      "needs_background": "light"
     },
     "output_type": "display_data"
    },
    {
     "name": "stdout",
     "output_type": "stream",
     "text": [
      "gamma x-z\n"
     ]
    },
    {
     "data": {
      "image/png": "[encoded data removed]",
      "text/plain": [
       "<Figure size 432x288 with 1 Axes>"
      ]
     },
     "metadata": {
      "needs_background": "light"
     },
     "output_type": "display_data"
    },
    {
     "name": "stdout",
     "output_type": "stream",
     "text": [
      "gamma y_z\n"
     ]
    },
    {
     "data": {
      "image/png": "[encoded data removed]",
      "text/plain": [
       "<Figure size 432x288 with 1 Axes>"
      ]
     },
     "metadata": {
      "needs_background": "light"
     },
     "output_type": "display_data"
    },
    {
     "name": "stdout",
     "output_type": "stream",
     "text": [
      "bb0n x-y\n"
     ]
    },
    {
     "data": {
      "image/png": "[encoded data removed]",
      "text/plain": [
       "<Figure size 432x288 with 1 Axes>"
      ]
     },
     "metadata": {
      "needs_background": "light"
     },
     "output_type": "display_data"
    },
    {
     "name": "stdout",
     "output_type": "stream",
     "text": [
      "bb0n x-z\n"
     ]
    },
    {
     "data": {
      "image/png": "[encoded data removed]",
      "text/plain": [
       "<Figure size 432x288 with 1 Axes>"
      ]
     },
     "metadata": {
      "needs_background": "light"
     },
     "output_type": "display_data"
    },
    {
     "name": "stdout",
     "output_type": "stream",
     "text": [
      "bb0n y-z\n"
     ]
    },
    {
     "data": {
      "image/png": "[encoded data removed]",
      "text/plain": [
       "<Figure size 432x288 with 1 Axes>"
      ]
     },
     "metadata": {
      "needs_background": "light"
     },
     "output_type": "display_data"
    }
   ],
   "source": [
    "#Some visulization\n",
    "import random\n",
    "print(len(train_xy))\n",
    "print (single_gamma_length)\n",
    "print(\"gamma x-y\")\n",
    "temp1 = random.randint(0, count)\n",
    "visualize(temp1, train_xy)\n",
    "print(\"gamma x-z\")\n",
    "visualize(temp1, train_xz)\n",
    "print(\"gamma y_z\")\n",
    "visualize(temp1, train_yz)\n",
    "print(\"bb0n x-y\")\n",
    "temp2 = random.randint(count, count*2-1)\n",
    "visualize(temp2, train_xy)\n",
    "print(\"bb0n x-z\")\n",
    "visualize(temp2, train_xz)\n",
    "print(\"bb0n y-z\")\n",
    "visualize(temp2, train_yz)"
   ]
  },
  {
   "cell_type": "code",
   "execution_count": 182,
   "metadata": {},
   "outputs": [
    {
     "name": "stdout",
     "output_type": "stream",
     "text": [
      "9240\n",
      "9240\n"
     ]
    }
   ],
   "source": [
    "#steps to prepare data for training\n",
    "label = np.ndarray(shape=(len(train_xy)), dtype=int)\n",
    "label[:cut_single_gamma_length].fill(1)\n",
    "label[cut_single_gamma_length:].fill(0)\n",
    "print (len(train_xy))\n",
    "print(len(label))"
   ]
  },
  {
   "cell_type": "code",
   "execution_count": 183,
   "metadata": {},
   "outputs": [],
   "source": [
    "#random shuffle data, split data into train-test splits\n",
    "c = list(zip(train_xy,train_xz,train_yz,label))\n",
    "random.shuffle(c)\n",
    "train_xy,train_xz,train_yz,label = zip(*c)\n",
    "train_xy = np.reshape(train_xy, (len(train_xy), 40, 40, 1));label = np.reshape(label, (len(label))); \n",
    "train_xz = np.reshape(train_xz, (len(train_xz), 40, 40, 1));\n",
    "train_yz = np.reshape(train_yz, (len(train_yz), 40, 40, 1));\n",
    "test_xy = train_xy[:400]; test_label = label[:400];\n",
    "xy_train = train_xy[400:];train_label = label[400:];"
   ]
  },
  {
   "cell_type": "code",
   "execution_count": 197,
   "metadata": {},
   "outputs": [],
   "source": [
    "#set epoch size and batch_size\n",
    "EPOCHS = 8\n",
    "BATCH_SIZE = 10"
   ]
  },
  {
   "cell_type": "code",
   "execution_count": 210,
   "metadata": {},
   "outputs": [],
   "source": [
    "#Defining CNN \n",
    "def model_fn():\n",
    "    model = tf.keras.Sequential([\n",
    "        tf.keras.layers.Conv2D(40, 3, activation='relu',\n",
    "                               kernel_regularizer=tf.keras.regularizers.l2(0.02),\n",
    "                               input_shape=(40, 40, 1)),\n",
    "        tf.keras.layers.Conv2D(30, 3, activation='relu'),\n",
    "        tf.keras.layers.Conv2D(20, 3, activation='relu'),\n",
    "        tf.keras.layers.Conv2D(10, 2, activation='relu'),\n",
    "        tf.keras.layers.MaxPooling2D(),\n",
    "        tf.keras.layers.Conv2D(5, 1, activation='relu'),\n",
    "        tf.keras.layers.MaxPooling2D(),\n",
    "        tf.keras.layers.Conv2D(2, 1, activation='relu'),\n",
    "        tf.keras.layers.Flatten(),\n",
    "        tf.keras.layers.Dense(512, activation='relu'),\n",
    "        tf.keras.layers.Dropout(0.2),\n",
    "        tf.keras.layers.Dense(256, activation='relu'),\n",
    "        tf.keras.layers.Flatten(),\n",
    "        tf.keras.layers.Dense(10, activation='softmax')\n",
    "    ])\n",
    "    model.compile(optimizer='adam',\n",
    "              loss='sparse_categorical_crossentropy',\n",
    "              metrics=['accuracy'])\n",
    "    return model\n",
    "model = model_fn()"
   ]
  },
  {
   "cell_type": "code",
   "execution_count": 211,
   "metadata": {},
   "outputs": [
    {
     "name": "stdout",
     "output_type": "stream",
     "text": [
      "Train on 7956 samples, validate on 884 samples\n",
      "Epoch 1/8\n",
      "7956/7956 [==============================] - 41s 5ms/sample - loss: 0.7118 - accuracy: 0.6032 - val_loss: 0.6550 - val_accuracy: 0.6482\n",
      "Epoch 2/8\n",
      "7956/7956 [==============================] - 37s 5ms/sample - loss: 0.6429 - accuracy: 0.6584 - val_loss: 0.6426 - val_accuracy: 0.6516\n",
      "Epoch 3/8\n",
      "7956/7956 [==============================] - 39s 5ms/sample - loss: 0.6340 - accuracy: 0.6675 - val_loss: 0.6346 - val_accuracy: 0.6538\n",
      "Epoch 4/8\n",
      "7956/7956 [==============================] - 39s 5ms/sample - loss: 0.6259 - accuracy: 0.6699 - val_loss: 0.6386 - val_accuracy: 0.6493\n",
      "Epoch 5/8\n",
      "7956/7956 [==============================] - 37s 5ms/sample - loss: 0.6223 - accuracy: 0.6741 - val_loss: 0.6352 - val_accuracy: 0.6606\n",
      "Epoch 6/8\n",
      "7956/7956 [==============================] - 38s 5ms/sample - loss: 0.6198 - accuracy: 0.6797 - val_loss: 0.6251 - val_accuracy: 0.6731\n",
      "Epoch 7/8\n",
      "7956/7956 [==============================] - 41s 5ms/sample - loss: 0.6118 - accuracy: 0.6870 - val_loss: 0.6276 - val_accuracy: 0.6640\n",
      "Epoch 8/8\n",
      "7956/7956 [==============================] - 36s 5ms/sample - loss: 0.6109 - accuracy: 0.6851 - val_loss: 0.6308 - val_accuracy: 0.6640\n",
      "400/400 [==============================] - 0s 952us/sample - loss: 0.6716 - accuracy: 0.6225\n"
     ]
    },
    {
     "data": {
      "text/plain": [
       "[0.671553909778595, 0.6225]"
      ]
     },
     "execution_count": 211,
     "metadata": {},
     "output_type": "execute_result"
    }
   ],
   "source": [
    "#shuffle again, then train and test the model \n",
    "c = list(zip(train_xy,train_xz,train_yz,label))\n",
    "random.shuffle(c)\n",
    "train_xy,train_xz,train_yz,label = zip(*c)\n",
    "train_xy = np.reshape(train_xy, (len(train_xy), 40, 40, 1));label = np.reshape(label, (len(label))); \n",
    "train_xz = np.reshape(train_xz, (len(train_xz), 40, 40, 1));\n",
    "train_yz = np.reshape(train_yz, (len(train_yz), 40, 40, 1));\n",
    "test_xy = train_xy[:400]; test_label = label[:400];\n",
    "xy_train = train_xy[400:];train_label = label[400:];\n",
    "\n",
    "model.fit(xy_train, train_label, batch_size = BATCH_SIZE, epochs = EPOCHS, validation_split = 0.1)\n",
    "model.evaluate(test_xy,test_label)"
   ]
  },
  {
   "cell_type": "code",
   "execution_count": null,
   "metadata": {},
   "outputs": [],
   "source": []
  }
 ],
 "metadata": {
  "kernelspec": {
   "display_name": "Python 3",
   "language": "python",
   "name": "python3"
  },
  "language_info": {
   "codemirror_mode": {
    "name": "ipython",
    "version": 3
   },
   "file_extension": ".py",
   "mimetype": "text/x-python",
   "name": "python",
   "nbconvert_exporter": "python",
   "pygments_lexer": "ipython3",
   "version": "3.7.7"
  }
 },
 "nbformat": 4,
 "nbformat_minor": 2
}
